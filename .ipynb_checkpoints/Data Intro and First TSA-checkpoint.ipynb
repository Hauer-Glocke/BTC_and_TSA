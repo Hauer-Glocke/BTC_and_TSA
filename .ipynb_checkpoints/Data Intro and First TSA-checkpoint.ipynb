{
 "cells": [
  {
   "cell_type": "markdown",
   "metadata": {},
   "source": [
    "## Preprocessing step and compressed saving for on github\n",
    "\n",
    "Here is the python code, with which the original csv file has been processed and compressed. Because of size problems, I truncated the 3,933,621 observations down to 2,950,000 obersations to fulfill githubs 50 MB size constraint.\n",
    "\n",
    "\n",
    "```{python}\n",
    "input = pd.read_csv('usd.csv')\n",
    "input = input.loc[0:2949999]\n",
    "input['date'] =  pd.to_datetime(input['date'])\n",
    "input['amount_btc'] = pd.Series(input['amount_usd'] / input['price_usd'], index=input.index)\n",
    "input.to_csv('usd_adj.csv', sep = ',', compression = 'bz2')\n",
    "\n",
    "testset = input.loc[0:9999,:].copy(deep=True)\n",
    "testset.to_csv('testset.csv', sep = ',', compression = 'bz2')\n",
    "```"
   ]
  },
  {
   "cell_type": "markdown",
   "metadata": {},
   "source": [
    "Originally I truncated the data inside a texteditor. When I implemented the compressing procedure, I tested if how I can most effectively assign the truncated testdata to a new object, which was more complicated than expected. The size is of the file is huge compared to the actual content and the time it takes to load it, is equally huge. In the following some interesting statistics. <span style=\"color:red\">**The problem has been solved viy the copy-function and avoiding errors in the xavin process.**</span>.\n",
    "\n",
    "```{python}\n",
    "import time\n",
    "import sys\n",
    "```\n",
    "usd1.csv has a size of 325KB and contains 10,417 observations:\n",
    "\n",
    "```{python}\n",
    "start_time = time.clock()\n",
    "test = pd.read_csv('usd1.csv')\n",
    "print (time.clock() - start_time, \"seconds\")\n",
    "print(sys.getsizeof(test), 'bits')\n",
    "\n",
    "#0.02049917376103849 seconds\n",
    "#958468 bits\n",
    "```\n",
    "\n",
    "testset.csv has a size of 152KB and contains 10,000 observations\n",
    "\n",
    "```{python}\n",
    "start_time = time.clock()\n",
    "test = pd.read_csv('testset.csv', sep = ',', compression = 'bz2')\n",
    "print (time.clock() - start_time, \"seconds\")\n",
    "print(sys.getsizeof(test), 'bits')\n",
    "\n",
    "#0.20917903891745482 seconds\n",
    "#1080104 bits\n",
    "```"
   ]
  },
  {
   "cell_type": "markdown",
   "metadata": {},
   "source": [
    "## Loading Data and creating Environment\n",
    "\n",
    "As described above, the testset is a dataset truncated to 10,000 observations of the original data. This aimes to assure computational speed for this testing environment."
   ]
  },
  {
   "cell_type": "code",
   "execution_count": 1,
   "metadata": {},
   "outputs": [],
   "source": [
    "import pandas as pd\n",
    "import numpy as np\n",
    "import matplotlib.pyplot as plt"
   ]
  },
  {
   "cell_type": "code",
   "execution_count": 9,
   "metadata": {},
   "outputs": [],
   "source": [
    "input = pd.read_csv('data/testset.csv', sep = ',', compression = 'bz2')\n",
    "\n",
    "input = input.iloc[:, 1:]\n",
    "\n",
    "input['date'] =  pd.to_datetime(input['date'])"
   ]
  },
  {
   "cell_type": "markdown",
   "metadata": {},
   "source": [
    "## Show the dimensions and format of the data"
   ]
  },
  {
   "cell_type": "code",
   "execution_count": 10,
   "metadata": {},
   "outputs": [
    {
     "name": "stdout",
     "output_type": "stream",
     "text": [
      "The Dimensions of the Dataset are (10000, 4).\n",
      "The types of the variables are as follows:\n",
      "date          datetime64[ns]\n",
      "price_usd            float64\n",
      "amount_usd           float64\n",
      "amount_btc           float64\n",
      "dtype: object\n"
     ]
    },
    {
     "data": {
      "text/html": [
       "<div>\n",
       "<style scoped>\n",
       "    .dataframe tbody tr th:only-of-type {\n",
       "        vertical-align: middle;\n",
       "    }\n",
       "\n",
       "    .dataframe tbody tr th {\n",
       "        vertical-align: top;\n",
       "    }\n",
       "\n",
       "    .dataframe thead th {\n",
       "        text-align: right;\n",
       "    }\n",
       "</style>\n",
       "<table border=\"1\" class=\"dataframe\">\n",
       "  <thead>\n",
       "    <tr style=\"text-align: right;\">\n",
       "      <th></th>\n",
       "      <th>date</th>\n",
       "      <th>price_usd</th>\n",
       "      <th>amount_usd</th>\n",
       "      <th>amount_btc</th>\n",
       "    </tr>\n",
       "  </thead>\n",
       "  <tbody>\n",
       "    <tr>\n",
       "      <th>0</th>\n",
       "      <td>2010-07-17 23:09:17</td>\n",
       "      <td>0.04951</td>\n",
       "      <td>20.00</td>\n",
       "      <td>403.958796</td>\n",
       "    </tr>\n",
       "    <tr>\n",
       "      <th>1</th>\n",
       "      <td>2010-07-18 03:43:06</td>\n",
       "      <td>0.05941</td>\n",
       "      <td>50.01</td>\n",
       "      <td>841.777479</td>\n",
       "    </tr>\n",
       "    <tr>\n",
       "      <th>2</th>\n",
       "      <td>2010-07-18 17:48:56</td>\n",
       "      <td>0.08080</td>\n",
       "      <td>5.00</td>\n",
       "      <td>61.881188</td>\n",
       "    </tr>\n",
       "    <tr>\n",
       "      <th>3</th>\n",
       "      <td>2010-07-18 21:44:11</td>\n",
       "      <td>0.08585</td>\n",
       "      <td>10.00</td>\n",
       "      <td>116.482236</td>\n",
       "    </tr>\n",
       "    <tr>\n",
       "      <th>4</th>\n",
       "      <td>2010-07-18 22:00:26</td>\n",
       "      <td>0.08584</td>\n",
       "      <td>5.00</td>\n",
       "      <td>58.247903</td>\n",
       "    </tr>\n",
       "  </tbody>\n",
       "</table>\n",
       "</div>"
      ],
      "text/plain": [
       "                 date  price_usd  amount_usd  amount_btc\n",
       "0 2010-07-17 23:09:17    0.04951       20.00  403.958796\n",
       "1 2010-07-18 03:43:06    0.05941       50.01  841.777479\n",
       "2 2010-07-18 17:48:56    0.08080        5.00   61.881188\n",
       "3 2010-07-18 21:44:11    0.08585       10.00  116.482236\n",
       "4 2010-07-18 22:00:26    0.08584        5.00   58.247903"
      ]
     },
     "execution_count": 10,
     "metadata": {},
     "output_type": "execute_result"
    }
   ],
   "source": [
    "print('The Dimensions of the Dataset are ' + str(input.shape) +'.')\n",
    "print('The types of the variables are as follows:')\n",
    "print(input.dtypes)\n",
    "\n",
    "input.head()"
   ]
  },
  {
   "cell_type": "markdown",
   "metadata": {},
   "source": [
    "## Charts for the data"
   ]
  },
  {
   "cell_type": "code",
   "execution_count": 65,
   "metadata": {},
   "outputs": [
    {
     "data": {
      "image/png": "[encoded data removed]",
      "text/plain": [
       "<matplotlib.figure.Figure at 0x19adb3400b8>"
      ]
     },
     "metadata": {},
     "output_type": "display_data"
    },
    {
     "data": {
      "image/png": "[encoded data removed]",
      "text/plain": [
       "<matplotlib.figure.Figure at 0x19a91106278>"
      ]
     },
     "metadata": {},
     "output_type": "display_data"
    },
    {
     "data": {
      "image/png": "[encoded data removed]",
      "text/plain": [
       "<matplotlib.figure.Figure at 0x19a9a916898>"
      ]
     },
     "metadata": {},
     "output_type": "display_data"
    }
   ],
   "source": [
    "input.plot(x = 'date', y = 'amount_btc', title = 'Turnover Bitcoin')\n",
    "input.plot(x = 'date', y = 'price_usd', title = 'Price of one BTC')\n",
    "input.plot(x = 'date', y = 'amount_usd', title = 'Turnover USD')\n",
    "plt.show()"
   ]
  },
  {
   "cell_type": "markdown",
   "metadata": {},
   "source": [
    "## Here comes the first analysis"
   ]
  },
  {
   "cell_type": "code",
   "execution_count": 60,
   "metadata": {},
   "outputs": [],
   "source": [
    "def estimated_autocorrelation(x):\n",
    "    \"\"\"\n",
    "    http://stackoverflow.com/q/14297012/190597\n",
    "    http://en.wikipedia.org/wiki/Autocorrelation#Estimation\n",
    "    \"\"\"\n",
    "    n = len(x)\n",
    "    variance = x.var()\n",
    "    x = x-x.mean()\n",
    "    r = np.correlate(x, x, mode = 'full')[-n:]\n",
    "    assert np.allclose(r, np.array([(x[:n-k]*x[-(n-k):]).sum() for k in range(n)]))\n",
    "    result = r/(variance*(np.arange(n, 0, -1)))\n",
    "    return result"
   ]
  },
  {
   "cell_type": "code",
   "execution_count": 61,
   "metadata": {},
   "outputs": [
    {
     "data": {
      "text/plain": [
       "array([ 1.        ,  0.99902825,  0.99861389, ..., -1.04719769,\n",
       "       -1.05646212, -1.02749463])"
      ]
     },
     "execution_count": 61,
     "metadata": {},
     "output_type": "execute_result"
    }
   ],
   "source": [
    "x = estimated_autocorrelation(np.array(input['price_usd']))\n",
    "x"
   ]
  },
  {
   "cell_type": "code",
   "execution_count": 62,
   "metadata": {},
   "outputs": [
    {
     "data": {
      "text/plain": [
       "True"
      ]
     },
     "execution_count": 62,
     "metadata": {},
     "output_type": "execute_result"
    }
   ],
   "source": [
    "x.shape == np.array(input['price_usd']).shape"
   ]
  }
 ],
 "metadata": {
  "kernelspec": {
   "display_name": "Python 3",
   "language": "python",
   "name": "python3"
  },
  "language_info": {
   "codemirror_mode": {
    "name": "ipython",
    "version": 3
   },
   "file_extension": ".py",
   "mimetype": "text/x-python",
   "name": "python",
   "nbconvert_exporter": "python",
   "pygments_lexer": "ipython3",
   "version": "3.6.5"
  }
 },
 "nbformat": 4,
 "nbformat_minor": 2
}
